{
  "nbformat": 4,
  "nbformat_minor": 0,
  "metadata": {
    "colab": {
      "provenance": []
    },
    "kernelspec": {
      "name": "python3",
      "display_name": "Python 3"
    },
    "language_info": {
      "name": "python"
    }
  },
  "cells": [
    {
      "cell_type": "code",
      "source": [
        "import numpy as np\n",
        "import seaborn as sns\n",
        "import matplotlib.pyplot as plt\n",
        "from scipy.stats import norm\n",
        "import random\n",
        "import math\n",
        "from scipy import stats\n",
        "from scipy.stats import skew\n",
        "from scipy.stats import trim_mean\n",
        "from statsmodels.stats.proportion import proportions_ztest\n",
        "from statsmodels.stats.weightstats import ztest"
      ],
      "metadata": {
        "id": "F_wACJfpmox-"
      },
      "execution_count": 1,
      "outputs": []
    },
    {
      "cell_type": "code",
      "execution_count": null,
      "metadata": {
        "id": "ypvm3KeUOFCH",
        "colab": {
          "base_uri": "https://localhost:8080/"
        },
        "outputId": "18436fc3-c805-427d-9feb-92d5a215ff9d"
      },
      "outputs": [
        {
          "output_type": "stream",
          "name": "stdout",
          "text": [
            "list: [119, 115, 120, 121, 123, 120, 119, 121, 111, 107, 93, 128, 126, 98, 94, 110, 102, 114, 123, 101, 127, 98, 95, 96, 130, 128, 113, 97, 108, 94, 114, 115, 114, 113, 94, 108, 115, 103, 94, 122, 112, 92, 99, 114, 108, 130, 128, 96, 130, 106, 112, 119, 98, 121, 109, 114, 123, 92, 119, 111, 118, 120, 97, 94, 113, 118, 126, 97, 119, 99, 122, 130, 101, 90, 96, 124, 96, 106, 92, 127, 102, 90, 112, 127, 117, 112, 103, 106, 127, 116, 111, 118, 102, 121, 111, 119, 99, 96, 116, 124]\n",
            "mean: 110.9\n",
            "median: 112.5\n",
            "mode: ModeResult(mode=119, count=6)\n",
            "Weighted Mean: 3.25\n",
            "Geometric Mean: 2.993795165523909\n",
            "harmonic mean: 2.1818181818181817\n",
            "mid_range_of_list: 6.0\n",
            "Trimmed Mean: 6.0\n"
          ]
        }
      ],
      "source": [
        "#1.Generate a list of 100 integers containing values between 90 to 130 and store it in the variable `int_list.After generating the list,find the following:\n",
        "int_list = [random.randint(90, 130) for _ in range(100)]\n",
        "print(\"list:\",int_list)\n",
        "\n",
        "#   (i) Write a Python function to calculate the mean of a given list of numbers.Create a function to find the median of a list of numbers.\n",
        "mean=np.mean(int_list)\n",
        "print(\"mean:\",mean)\n",
        "median=np.median(int_list)\n",
        "print(\"median:\",median)\n",
        "\n",
        "#   (ii) Develop a program to compute the mode of a list of integers.\n",
        "mode=stats.mode(int_list)\n",
        "print(\"mode:\",mode)\n",
        "\n",
        "#   (iii) Implement a function to calculate the weighted mean of a list of values and their corresponding weights.\n",
        "def weighted_mean(values, weights):\n",
        "  if len(values)!=len(weights):\n",
        "    raise ValueError(\"The length of values and weights must be the same\")\n",
        "  weighted_sum=sum(value*weight for value,weight in zip(values,weights))\n",
        "  total_weight=sum(weights)\n",
        "  if total_weight == 0:\n",
        "        raise ValueError(\"The sum of weights must not be zero\")\n",
        "  return weighted_sum / total_weight\n",
        "values=[1,2,3,4,5]\n",
        "weights=[6,7,8,9,10]\n",
        "weighted_mean_value = weighted_mean(values, weights)\n",
        "print(\"Weighted Mean:\",weighted_mean_value)\n",
        "\n",
        "#   (iv) Write a Python function to find the geometric mean of a list of positive numbers.\n",
        "def geometric_mean(number):\n",
        "  product=math.prod(number)\n",
        "  n=len(number)\n",
        "  return product **(1/n)\n",
        "number=1,2,3,4,5,6\n",
        "geo_mean_value = geometric_mean(number)\n",
        "print(\"Geometric Mean:\", geo_mean_value)\n",
        "\n",
        "#   (v) Create a program to calculate the harmonic mean of a list of values.\n",
        "def harmonic_mean(numbers):\n",
        "  return len(numbers)/sum(1/num for num in numbers)\n",
        "numbers=4,8,1\n",
        "harm_mean_values=harmonic_mean(numbers)\n",
        "print(\"harmonic mean:\",harm_mean_values)\n",
        "\n",
        "#   (vi) Build a function to determine the midrange of a list of numbers (average of the minimum and maximum).\n",
        "def midrange(num):\n",
        "  return (min(num)+max(num))/2\n",
        "num=2,3,4,5,6,7,10\n",
        "mid_range=midrange(num)\n",
        "print(\"mid_range_of_list:\",mid_range)\n",
        "\n",
        "#   (vii) Implement a Python program to find the trimmed mean of a list, excluding a certain percentage of outliers.\n",
        "def calculate_trimmed_mean(numbers, proportion_to_cut):\n",
        "      return trim_mean(numbers, proportion_to_cut)\n",
        "numbers = [2, 3, 4, 5, 6, 7, 8, 9, 10]\n",
        "proportion_to_cut = 0.1\n",
        "trimmed_mean_value = calculate_trimmed_mean(numbers,proportion_to_cut)\n",
        "print(\"Trimmed Mean:\", trimmed_mean_value)\n"
      ]
    },
    {
      "cell_type": "code",
      "source": [
        "#2.Generate a list of 500 integers containing values between 200 to 300 and store it in the variable `int_list2`.After generating the list,find the following:\n",
        "int_list2=[random.randint(200,300)for _ in range(500)]\n",
        "print(\"int_list2:\",int_list2)\n",
        "\n",
        "  # (i) Compare the given list of visualization for the given data:\n",
        "  #   1. Frequency & Gaussian distribution\n",
        "plt.figure(figsize=(10,6))\n",
        "sns.histplot(int_list2,kde=False,bins=30,color='blue',label='Frequency')\n",
        "xmin,xmax=plt.xlim()\n",
        "x=np.linspace(xmin,xmax,100)\n",
        "p=norm.pdf(x,np.mean(int_list2),np.std(int_list2))\n",
        "plt.plot(x, p * len(int_list2) * (xmax - xmin) / 30, 'k', linewidth=2, label='Gaussian Distribution')\n",
        "plt.legend()\n",
        "plt.title('Frequency & Gaussian Distribution')\n",
        "plt.show()\n",
        "\n",
        "  #   2. Frequency smoothened KDE plot\n",
        "plt.figure(figsize=(10, 6))\n",
        "sns.histplot(int_list2, kde=True, bins=30, color='blue', label='Frequency with KDE')\n",
        "plt.legend()\n",
        "plt.title('Frequency Smoothened KDE Plot')\n",
        "plt.show()\n",
        "\n",
        "  #   3. Gaussian distribution & smoothened KDE plot\n",
        "plt.figure(figsize=(10, 6))\n",
        "sns.histplot(int_list2, kde=True, bins=30, color='blue', label='KDE Plot')\n",
        "xmin, xmax = plt.xlim()\n",
        "x = np.linspace(xmin, xmax, 100)\n",
        "p = norm.pdf(x, np.mean(int_list2), np.std(int_list2))\n",
        "plt.plot(x, p * len(int_list2) * (xmax - xmin) / 30, 'k', linewidth=2, label='Gaussian Distribution')\n",
        "plt.legend()\n",
        "plt.title('Gaussian Distribution & Smoothened KDE Plot')\n",
        "plt.show()\n",
        "\n",
        "  # (ii) Write a Python function to calculate the range of a given list of numbers.\n",
        "def range_calculate(numbers):\n",
        "  return (max(numbers)-min(numbers))\n",
        "calculate_range=range_calculate(int_list2)\n",
        "print(\"range:\",calculate_range)\n",
        "\n",
        "  # (iii) Create a program to find the variance and standard deviation of a list of numbers.\n",
        "def calculate_variance(numbers):\n",
        "  return np.var(numbers)\n",
        "def calculate_std(numbers):\n",
        "  return np.std(numbers)\n",
        "variance_value = calculate_variance(int_list2)\n",
        "std_deviation_value = calculate_std(int_list2)\n",
        "print(\"Variance:\", variance_value)\n",
        "print(\"Standard Deviation:\", std_deviation_value)\n",
        "\n",
        "  # (iv) Implement a function to compute the interquartile range (IQR) of a list of values.\n",
        "def interquartile(numbers):\n",
        "  Q1=np.percentile(numbers,25)\n",
        "  Q3=np.percentile(numbers,75)\n",
        "  return Q3-Q1\n",
        "iqr_value = interquartile(int_list2)\n",
        "print(\"Interquartile Range (IQR):\", iqr_value)\n",
        "\n",
        "  # (v) Build a program to calculate the coefficient of variation for a dataset.\n",
        "def calculate_cov(numbers):\n",
        "  mean=np.mean(numbers)\n",
        "  st_deviation=np.std(numbers)\n",
        "  return st_deviation/mean\n",
        "cv_value = calculate_cov(int_list2)\n",
        "print(\"Coefficient of Variation:\", cv_value)\n",
        "\n",
        "  # (vi) Write a Python function to find the mean absolute deviation (MAD) of a list of numbers.\n",
        "def MAD(numbers):\n",
        "  mean = np.mean(numbers)\n",
        "  return np.mean([abs(x - mean) for x in numbers])\n",
        "mad_value = MAD(int_list2)\n",
        "print(\"Mean Absolute Deviation (MAD):\", mad_value)\n",
        "\n",
        "  # (vii) Create a program to calculate the quartile deviation of a list of values.\n",
        "def quartile_dev(numbers):\n",
        "  Q1=np.percentile(numbers,25)\n",
        "  Q3=np.percentile(numbers,75)\n",
        "  return (Q3-Q1)/2\n",
        "qr_value = quartile_dev(int_list2)\n",
        "print(\"Quartile deviation:\", qr_value)\n",
        "\n",
        "  # (viii) Implement a function to find the range-based coefficient of dispersion for a dataset.\n",
        "def calculate_range(numbers):\n",
        "    return np.max(numbers) - np.min(numbers)\n",
        "def range_based(numbers):\n",
        "    range_value = calculate_range(numbers)\n",
        "    mean = np.mean(numbers)\n",
        "    return range_value / mean\n",
        "int_list2 = [5, 10, 15, 20, 25]\n",
        "range_cd_value = range_based(int_list2)\n",
        "print(\"Range-based Coefficient of Dispersion:\", range_cd_value)\n",
        "\n"
      ],
      "metadata": {
        "id": "XXYKlzR_mTIJ",
        "colab": {
          "base_uri": "https://localhost:8080/",
          "height": 1000
        },
        "outputId": "18c7e8f2-34d3-406a-fd49-f99d2b798e9d"
      },
      "execution_count": null,
      "outputs": [
        {
          "output_type": "stream",
          "name": "stdout",
          "text": [
            "int_list2: [216, 268, 202, 238, 232, 266, 220, 215, 206, 293, 228, 286, 264, 239, 217, 239, 289, 269, 267, 234, 290, 222, 289, 205, 211, 266, 217, 270, 211, 242, 213, 250, 245, 282, 237, 299, 236, 234, 277, 282, 257, 295, 234, 264, 280, 275, 276, 249, 240, 252, 297, 238, 256, 202, 229, 221, 226, 240, 220, 216, 284, 207, 291, 248, 250, 206, 266, 224, 294, 286, 238, 292, 257, 270, 202, 281, 268, 244, 232, 251, 271, 283, 245, 213, 216, 202, 223, 208, 298, 272, 244, 283, 281, 210, 246, 291, 281, 216, 274, 267, 226, 242, 252, 299, 228, 240, 237, 262, 233, 215, 244, 297, 283, 283, 231, 298, 254, 300, 263, 222, 215, 206, 231, 261, 227, 252, 245, 277, 217, 219, 230, 285, 213, 219, 200, 210, 273, 293, 282, 216, 253, 246, 273, 212, 283, 244, 245, 246, 280, 217, 206, 257, 248, 230, 292, 228, 259, 253, 273, 255, 201, 277, 251, 271, 268, 294, 234, 274, 259, 225, 208, 229, 264, 228, 236, 214, 214, 228, 239, 254, 276, 261, 299, 288, 254, 283, 289, 236, 227, 299, 254, 205, 208, 273, 296, 296, 279, 244, 226, 296, 243, 206, 265, 200, 298, 207, 268, 247, 263, 239, 274, 296, 295, 255, 236, 253, 273, 300, 248, 239, 247, 227, 298, 209, 248, 226, 282, 219, 204, 210, 277, 235, 205, 210, 284, 208, 219, 282, 206, 260, 238, 270, 275, 220, 298, 276, 268, 208, 216, 206, 216, 279, 221, 220, 282, 208, 272, 245, 231, 265, 297, 268, 211, 285, 273, 240, 235, 244, 219, 221, 300, 238, 266, 218, 270, 270, 279, 222, 266, 273, 224, 265, 224, 251, 295, 275, 241, 283, 268, 257, 253, 252, 234, 288, 296, 237, 289, 231, 233, 295, 240, 257, 205, 249, 233, 220, 299, 285, 269, 285, 243, 222, 283, 234, 280, 213, 235, 233, 288, 267, 272, 278, 260, 257, 294, 243, 261, 209, 268, 222, 217, 283, 286, 234, 233, 253, 265, 220, 258, 205, 223, 260, 222, 220, 231, 214, 279, 283, 223, 258, 283, 247, 267, 202, 222, 210, 263, 203, 245, 271, 262, 233, 280, 294, 224, 225, 243, 239, 285, 291, 293, 263, 214, 249, 254, 272, 277, 230, 276, 259, 291, 239, 234, 209, 217, 292, 241, 300, 290, 264, 227, 289, 203, 249, 272, 242, 291, 258, 268, 244, 224, 202, 282, 267, 258, 249, 239, 243, 263, 242, 228, 248, 270, 287, 287, 254, 298, 216, 202, 295, 223, 300, 250, 288, 261, 266, 234, 248, 213, 264, 228, 277, 218, 237, 221, 229, 297, 208, 289, 271, 286, 265, 227, 231, 221, 254, 260, 207, 292, 226, 242, 203, 212, 206, 287, 207, 270, 241, 241, 254, 292, 264, 262, 208, 251, 217, 254, 255, 288, 210, 262, 299, 247, 248, 278, 216, 252, 287, 225, 274, 298, 219, 272, 209, 238, 257, 297, 211, 257, 280, 295, 254, 207, 284, 246, 234, 214, 207, 256, 201]\n"
          ]
        },
        {
          "output_type": "display_data",
          "data": {
            "text/plain": [
              "<Figure size 1000x600 with 1 Axes>"
            ],
            "image/png": "[encoded data removed]"
          },
          "metadata": {}
        },
        {
          "output_type": "display_data",
          "data": {
            "text/plain": [
              "<Figure size 1000x600 with 1 Axes>"
            ],
            "image/png": "[encoded data removed]"
          },
          "metadata": {}
        },
        {
          "output_type": "display_data",
          "data": {
            "text/plain": [
              "<Figure size 1000x600 with 1 Axes>"
            ],
            "image/png": "[encoded data removed]"
          },
          "metadata": {}
        },
        {
          "output_type": "stream",
          "name": "stdout",
          "text": [
            "range: 100\n",
            "Variance: 831.382736\n",
            "Standard Deviation: 28.833708328968026\n",
            "Interquartile Range (IQR): 49.25\n",
            "Coefficient of Variation: 0.11520027938954511\n",
            "Mean Absolute Deviation (MAD): 24.959504000000003\n",
            "Quartile deviation: 24.625\n",
            "Range-based Coefficient of Dispersion: 1.3333333333333333\n"
          ]
        }
      ]
    },
    {
      "cell_type": "code",
      "source": [
        "#3.Write a Python class representing a discrete random variable with methods to calculate its expected value and variance.\n",
        "class DiscreteRandomVariable:\n",
        "    def __init__(self, outcomes, probabilities):\n",
        "        \"\"\"\n",
        "        Initialize a discrete random variable with outcomes and corresponding probabilities.\n",
        "\n",
        "        Parameters:\n",
        "        - outcomes (list): List of possible outcomes of the random variable.\n",
        "        - probabilities (list): List of probabilities corresponding to each outcome.\n",
        "        \"\"\"\n",
        "        self.outcomes = outcomes\n",
        "        self.probabilities = probabilities\n",
        "\n",
        "    def expected_value(self):\n",
        "        \"\"\"\n",
        "        Calculate the expected value (mean) of the discrete random variable.\n",
        "\n",
        "        Returns:\n",
        "        - float: Expected value of the random variable.\n",
        "        \"\"\"\n",
        "        expected_val = sum(p * x for x, p in zip(self.outcomes, self.probabilities))\n",
        "        return expected_val\n",
        "\n",
        "    def variance(self):\n",
        "        \"\"\"\n",
        "        Calculate the variance of the discrete random variable.\n",
        "\n",
        "        Returns:\n",
        "        - float: Variance of the random variable.\n",
        "        \"\"\"\n",
        "        expected_val = self.expected_value()\n",
        "        variance_val = sum(p * (x - expected_val)**2 for x, p in zip(self.outcomes, self.probabilities))\n",
        "        return variance_val\n",
        "\n",
        "# Example usage:\n",
        "if __name__ == \"__main__\":\n",
        "    # Define outcomes and probabilities for a sample discrete random variable\n",
        "    outcomes = [1, 2, 3, 4, 5]\n",
        "    probabilities = [0.1, 0.2, 0.3, 0.2, 0.2]\n",
        "\n",
        "    # Create an instance of DiscreteRandomVariable\n",
        "    random_var = DiscreteRandomVariable(outcomes, probabilities)\n",
        "\n",
        "    # Calculate and print expected value and variance\n",
        "    print(f\"Expected Value: {random_var.expected_value()}\")\n",
        "    print(f\"Variance: {random_var.variance()}\")\n"
      ],
      "metadata": {
        "id": "M_gxhPHhmpV5",
        "colab": {
          "base_uri": "https://localhost:8080/"
        },
        "outputId": "e1b3036a-9c2f-4308-84e9-25637576791e"
      },
      "execution_count": 14,
      "outputs": [
        {
          "output_type": "stream",
          "name": "stdout",
          "text": [
            "Expected Value: 3.2\n",
            "Variance: 1.56\n"
          ]
        }
      ]
    },
    {
      "cell_type": "code",
      "source": [
        "#4.Implement a program to simulate the rolling of a pair six-sided die and calculate the expected value and variance of the outcomes.\n",
        "def roll_dice():\n",
        "  die1=random.randint(1,6)\n",
        "  die2=random.randint(1,6)\n",
        "  return die1+die2\n",
        "num_simulation=1000000\n",
        "results=[roll_dice() for _ in range(num_simulation)]\n",
        "expected_value=np.mean(results)\n",
        "variance = np.var(results)\n",
        "expected_value, variance"
      ],
      "metadata": {
        "id": "gLrtwE6pmxn1",
        "colab": {
          "base_uri": "https://localhost:8080/"
        },
        "outputId": "b6b379c9-9abc-4928-ba39-173219c17432"
      },
      "execution_count": null,
      "outputs": [
        {
          "output_type": "execute_result",
          "data": {
            "text/plain": [
              "(7.001294, 5.8407743255639994)"
            ]
          },
          "metadata": {},
          "execution_count": 2
        }
      ]
    },
    {
      "cell_type": "code",
      "source": [
        "#5.Create a Python function to generate random samples from a given probabilities distribution (e.g.,binomial, Poisson) and calculate their mean and variance.\n",
        "def generate_samples(distribution, params, size=1000):\n",
        "    if distribution == 'binomial':\n",
        "        n, p = params\n",
        "        samples = np.random.binomial(n, p, size)\n",
        "    elif distribution == 'poisson':\n",
        "        lam = params[0]\n",
        "        samples = np.random.poisson(lam, size)\n",
        "    else:\n",
        "        raise ValueError(\"Unsupported distribution. Supported distributions are 'binomial' and 'poisson'.\")\n",
        "    mean = np.mean(samples)\n",
        "    variance = np.var(samples)\n",
        "    return samples, mean, variance\n",
        "# Example usage:\n",
        "# Generate samples from a binomial distribution with n=10, p=0.5\n",
        "binomial_samples, binomial_mean, binomial_variance = generate_samples('binomial', (10, 0.5))\n",
        "# Generate samples from a Poisson distribution with lambda=3\n",
        "poisson_samples, poisson_mean, poisson_variance = generate_samples('poisson', (3,))\n",
        "binomial_mean, binomial_variance, poisson_mean, poisson_variance\n"
      ],
      "metadata": {
        "id": "VDdL4iYlm8SM",
        "colab": {
          "base_uri": "https://localhost:8080/"
        },
        "outputId": "9797af39-c4ab-4749-ce01-ef60b7316e5a"
      },
      "execution_count": null,
      "outputs": [
        {
          "output_type": "execute_result",
          "data": {
            "text/plain": [
              "(5.031, 2.692039, 2.915, 2.7997749999999995)"
            ]
          },
          "metadata": {},
          "execution_count": 3
        }
      ]
    },
    {
      "cell_type": "code",
      "source": [
        "#6.Write a Python script to generate random numbers from a Gaussian (normal) distribution and compute the mean, variance, and standard deviation of the samples.\n",
        "def generate_normal_samples(mean, std_dev, size=1000):\n",
        "    samples = np.random.normal(mean, std_dev, size)\n",
        "    sample_mean = np.mean(samples)\n",
        "    sample_variance = np.var(samples)\n",
        "    sample_std_dev = np.std(samples)\n",
        "    return samples, sample_mean, sample_variance, sample_std_dev\n",
        "normal_samples, normal_mean, normal_variance, normal_std_dev = generate_normal_samples(0, 1)\n",
        "normal_mean, normal_variance, normal_std_dev"
      ],
      "metadata": {
        "id": "_idFbwTEnFjk",
        "colab": {
          "base_uri": "https://localhost:8080/"
        },
        "outputId": "0dd7634c-bedb-44e8-d014-079fe8c91816"
      },
      "execution_count": null,
      "outputs": [
        {
          "output_type": "execute_result",
          "data": {
            "text/plain": [
              "(-0.005949334493660819, 1.0050549418197043, 1.0025242849027172)"
            ]
          },
          "metadata": {},
          "execution_count": 6
        }
      ]
    },
    {
      "cell_type": "code",
      "source": [
        "#7.Use seaborn libraries to load tips dataset. Find the following from the dataset for the columns total_bill and tip`:\n",
        "tips = sns.load_dataset(\"tips\")\n",
        "print(tips)\n",
        "\n",
        "# a.Write a Python function that calculates their skewness.\n",
        "def calculate_skewness(data, column_name):\n",
        "    column_data = data[column_name]\n",
        "    skewness = skew(column_data)\n",
        "    return skewness\n",
        "total_bill_skewness = calculate_skewness(tips, 'total_bill')\n",
        "print(\"total_bill:\", total_bill_skewness)\n",
        "tip_skewness = calculate_skewness(tips, 'tip')\n",
        "print(\"tip:\", tip_skewness)\n",
        "\n",
        "# b.Create a program that determines whether the columns exhibit positive skewness, negative skewness, or is approximately symmetric.\n",
        "def determine_skewness(skewness_value):\n",
        "      if skewness_value > 0:\n",
        "        return \"Positive skewness\"\n",
        "      elif skewness_value < 0:\n",
        "        return \"Negative skewness\"\n",
        "      else:\n",
        "        return \"Approximately symmetric\"\n",
        "total_bill_skewness_type = determine_skewness(total_bill_skewness)\n",
        "print(\"Skewness type for 'total_bill' column:\", total_bill_skewness_type)\n",
        "tip_skewness_type = determine_skewness(tip_skewness)\n",
        "print(\"Skewness type for 'tip' column:\", tip_skewness_type)\n",
        "\n",
        "# c.Write a function that calculates the covariance between two columns.\n",
        "def calculate_covariance(data, column1, column2):\n",
        "  covariance = data[[column1, column2]].cov().iloc[0, 1]\n",
        "  return covariance\n",
        "covariance = calculate_covariance(tips, 'total_bill', 'tip')\n",
        "print(\"Covariance between 'total_bill' and 'tip' columns:\", covariance)\n",
        "\n",
        "# d.Implement a Python program that calculates the Pearson correlation coefficient between two columns.\n",
        "def calculate_correlation(data, column1, column2):\n",
        "    correlation = data[[column1, column2]].corr().iloc[0, 1]\n",
        "    return correlation\n",
        "correlation = calculate_correlation(tips, 'total_bill', 'tip')\n",
        "print(\"Pearson correlation coefficient between 'total_bill' and 'tip' columns:\", correlation)\n",
        "\n",
        "# e.Write a script to visualize the correlation between two specific columns in a Pandas DataFrame using scatter plots.\n",
        "def visualize_correlation(data, column1, column2):\n",
        "    plt.scatter(data[column1], data[column2])\n",
        "    plt.xlabel(column1)\n",
        "    plt.ylabel(column2)\n",
        "    plt.title(f\"Scatter plot of {column1} vs {column2}\")\n",
        "    plt.show()\n",
        "visualize_correlation(tips, 'total_bill', 'tip')\n"
      ],
      "metadata": {
        "id": "edEHGR_znOng",
        "colab": {
          "base_uri": "https://localhost:8080/",
          "height": 819
        },
        "outputId": "150f0978-b570-4d19-9748-c7c13d3dd478"
      },
      "execution_count": null,
      "outputs": [
        {
          "output_type": "stream",
          "name": "stdout",
          "text": [
            "     total_bill   tip     sex smoker   day    time  size\n",
            "0         16.99  1.01  Female     No   Sun  Dinner     2\n",
            "1         10.34  1.66    Male     No   Sun  Dinner     3\n",
            "2         21.01  3.50    Male     No   Sun  Dinner     3\n",
            "3         23.68  3.31    Male     No   Sun  Dinner     2\n",
            "4         24.59  3.61  Female     No   Sun  Dinner     4\n",
            "..          ...   ...     ...    ...   ...     ...   ...\n",
            "239       29.03  5.92    Male     No   Sat  Dinner     3\n",
            "240       27.18  2.00  Female    Yes   Sat  Dinner     2\n",
            "241       22.67  2.00    Male    Yes   Sat  Dinner     2\n",
            "242       17.82  1.75    Male     No   Sat  Dinner     2\n",
            "243       18.78  3.00  Female     No  Thur  Dinner     2\n",
            "\n",
            "[244 rows x 7 columns]\n",
            "total_bill: 1.1262346334818638\n",
            "tip: 1.4564266884221506\n",
            "Skewness type for 'total_bill' column: Positive skewness\n",
            "Skewness type for 'tip' column: Positive skewness\n",
            "Covariance between 'total_bill' and 'tip' columns: 8.323501629224854\n",
            "Pearson correlation coefficient between 'total_bill' and 'tip' columns: 0.6757341092113648\n"
          ]
        },
        {
          "output_type": "display_data",
          "data": {
            "text/plain": [
              "<Figure size 640x480 with 1 Axes>"
            ],
            "image/png": "[encoded data removed]"
          },
          "metadata": {}
        }
      ]
    },
    {
      "cell_type": "code",
      "source": [
        "#8.Write a Python function to calculate the probabilities density function (PDF) of a continuous random variable for a given normal distribution.\n",
        "def normal_pdf(x, mu, sigma):\n",
        "      coefficient = 1 / (sigma * math.sqrt(2 * math.pi))\n",
        "      exponent = -((x - mu) ** 2) / (2 * sigma ** 2)\n",
        "      return coefficient * math.exp(exponent)\n",
        "x_value = 1.0\n",
        "mean = 0.0\n",
        "std_dev = 1.0\n",
        "pdf_value = normal_pdf(x_value, mean, std_dev)\n",
        "print(f\"The PDF of the normal distribution at x = {x_value} is {pdf_value}\")"
      ],
      "metadata": {
        "id": "1_zJF4iZneEK",
        "colab": {
          "base_uri": "https://localhost:8080/"
        },
        "outputId": "f4f04c6c-3682-4c65-ed0c-403bea8cf61c"
      },
      "execution_count": null,
      "outputs": [
        {
          "output_type": "stream",
          "name": "stdout",
          "text": [
            "The PDF of the normal distribution at x = 1.0 is 0.24197072451914337\n"
          ]
        }
      ]
    },
    {
      "cell_type": "code",
      "source": [
        "#9.Create a program to calculate the cumulative distribution function (CDF) of exponential distribution.\n",
        "def exponential_cdf(x, lambd):\n",
        "  if x < 0:\n",
        "        return 0.0\n",
        "  return 1 - math.exp(-lambd * x)\n",
        "x_value = 1.0\n",
        "rate_parameter = 0.5\n",
        "cdf_value = exponential_cdf(x_value, rate_parameter)\n",
        "print(f\"The CDF of the exponential distribution at x = {x_value} is {cdf_value}\")"
      ],
      "metadata": {
        "id": "yhaX1KfkoTZM",
        "colab": {
          "base_uri": "https://localhost:8080/"
        },
        "outputId": "fb15cb2b-d4b3-47b7-c93e-5962caf0bd78"
      },
      "execution_count": null,
      "outputs": [
        {
          "output_type": "stream",
          "name": "stdout",
          "text": [
            "The CDF of the exponential distribution at x = 1.0 is 0.3934693402873666\n"
          ]
        }
      ]
    },
    {
      "cell_type": "code",
      "source": [
        "#10.Write a Python function to calculate the probabilities mass function (PMF) of Poisson distribution.\n",
        "def pmf_poisson(k,lambd):\n",
        "  if k<0:\n",
        "    return 0.0\n",
        "  return (lambd**k*math.exp(-lambd))/math.factorial(k)\n",
        "k_value = 3\n",
        "rate_parameter = 2.5\n",
        "pmf_value = pmf_poisson(k_value, rate_parameter)\n",
        "print(f\"The PMF of the Poisson distribution for k = {k_value} and λ = {rate_parameter} is {pmf_value}\")"
      ],
      "metadata": {
        "id": "HFT4ciNiodpK",
        "colab": {
          "base_uri": "https://localhost:8080/"
        },
        "outputId": "3e48e28d-adeb-41cc-c1b2-a43821b860a4"
      },
      "execution_count": null,
      "outputs": [
        {
          "output_type": "stream",
          "name": "stdout",
          "text": [
            "The PMF of the Poisson distribution for k = 3 and λ = 2.5 is 0.21376301724973645\n"
          ]
        }
      ]
    },
    {
      "cell_type": "code",
      "source": [
        "#11.A company wants to test in a new website layout leads to a higher conversion rate (percentage on visitors who make a purchase). They collect data from the old and new layouts to compare.\n",
        "# To generate the data use the following command:\n",
        "\n",
        "# ```python\n",
        "\n",
        "# import numpy as np\n",
        "\n",
        "#  50 purchases out of 1000 visitors\n",
        "\n",
        "# old_layout = np.array([1] * 50 + [0] * 950)\n",
        "\n",
        "#  70 purchases out of 1000 visitors\n",
        "\n",
        "# new_layout = np.array([1] * 70 + [0] * 930)\n",
        "\n",
        "#   ```\n",
        "\n",
        "# Apply z-test to find which layout is successful.\n",
        "old_layout = np.array([1] * 50 + [0] * 950)\n",
        "new_layout = np.array([1] * 70 + [0] * 930)\n",
        "count = np.array([old_layout.sum(), new_layout.sum()])\n",
        "nobs = np.array([old_layout.size, new_layout.size])\n",
        "z_stat, p_value = proportions_ztest(count, nobs, alternative='larger')\n",
        "z_stat, p_value"
      ],
      "metadata": {
        "id": "yu9bVPSEomP4",
        "colab": {
          "base_uri": "https://localhost:8080/"
        },
        "outputId": "e3beb0ea-806b-49dc-f35e-1761ef16adc4"
      },
      "execution_count": null,
      "outputs": [
        {
          "output_type": "execute_result",
          "data": {
            "text/plain": [
              "(-1.883108942886774, 0.9701571972337869)"
            ]
          },
          "metadata": {},
          "execution_count": 5
        }
      ]
    },
    {
      "cell_type": "code",
      "source": [
        "#12. A tutoring service claims that its program improves students' exam scores. A sample on students who participated in the program was taken, and their scores before and after the program were recorded.\n",
        "# Use the below code to generate samples of respective arrays of marks:\n",
        "\n",
        "# ```python\n",
        "\n",
        "# before_program = np.array([75, 80, 85, 70, 90, 78, 92, 88, 82, 87])\n",
        "\n",
        "# after_program = np.array([80, 85, 90, 80, 92, 80, 95, 90, 85, 88])\n",
        "\n",
        "# ```\n",
        "\n",
        "# Use z-test to find if the claims made by tutor are true or false.\n",
        "before_program = np.array([75, 80, 85, 70, 90, 78, 92, 88, 82, 87])\n",
        "after_program = np.array([80, 85, 90, 80, 92, 80, 95, 90, 85, 88])\n",
        "differences = after_program - before_program\n",
        "z_stat, p_value = ztest(differences, value=0, alternative='larger')\n",
        "print(\"z-statistic:\", z_stat)\n",
        "print(\"p-value:\", p_value)"
      ],
      "metadata": {
        "id": "kwUup_2Fo-sl",
        "colab": {
          "base_uri": "https://localhost:8080/"
        },
        "outputId": "c4dd4029-7170-4b55-9a75-0e84f86dae47"
      },
      "execution_count": null,
      "outputs": [
        {
          "output_type": "stream",
          "name": "stdout",
          "text": [
            "z-statistic: 4.593190894944668\n",
            "p-value: 2.182597052671683e-06\n"
          ]
        }
      ]
    },
    {
      "cell_type": "code",
      "source": [
        "#13.A pharmaceutical company wants to determine if a new drug is effective in reducing blood pressure. They conduct a study and record blood pressure measurements before and after administering the drug.\n",
        "# Use the below code to generate samples of respective arrays of blood pressure:\n",
        "# ```python\n",
        "# before_drug = np.array([145, 150, 140, 135, 155, 160, 152, 148, 130, 138])\n",
        "# after_drug = np.array([130, 140, 132, 128, 145, 148, 138, 136, 125, 130])\n",
        "#   ```\n",
        "# Implement z-test to find if the drug really works or not.\n",
        "before_drug = np.array([145, 150, 140, 135, 155, 160, 152, 148, 130, 138])\n",
        "after_drug = np.array([130, 140, 132, 128, 145, 148, 138, 136, 125, 130])\n",
        "mean_before=np.mean(before_drug)\n",
        "mean_after=np.mean(after_drug)\n",
        "std_dev=np.std(before_drug)\n",
        "n=len(before_drug)\n",
        "z_score = (mean_after - mean_before) / (std_dev / np.sqrt(n))\n",
        "alpha=0.5\n",
        "p_value = stats.norm.cdf(z_score)\n",
        "print(\"Z-score:\", z_score)\n",
        "print(\"P-value:\", p_value)\n",
        "if p_value < alpha:\n",
        "    print(\"Reject null hypothesis\")\n",
        "else:\n",
        "    print(\"Fail to reject null hypothesis\")"
      ],
      "metadata": {
        "id": "xdEw0CHepNEJ",
        "colab": {
          "base_uri": "https://localhost:8080/"
        },
        "outputId": "98c64a54-4dd9-4102-bbea-74738f238590"
      },
      "execution_count": null,
      "outputs": [
        {
          "output_type": "stream",
          "name": "stdout",
          "text": [
            "Z-score: -3.557352593468749\n",
            "P-value: 0.0001873055937057134\n",
            "Reject null hypothesis\n"
          ]
        }
      ]
    },
    {
      "cell_type": "code",
      "source": [
        "#14.A customer service department claims that their average response time is less than 5 minutes.A sample of recent customer interactions was taken, and the response times were recorded.\n",
        "# Implement the below code to generate the array of response time:\n",
        "\n",
        "# ```python\n",
        "\n",
        "# response_times = np.array([4.3, 3.8, 5.1, 4.9, 4.7, 4.2, 5.2, 4.5, 4.6, 4.4])\n",
        "\n",
        "# ```\n",
        "\n",
        "# Implement z-test to find the claims made by customer service department are true or false.\n",
        "response_times = np.array([4.3, 3.8, 5.1, 4.9, 4.7, 4.2, 5.2, 4.5, 4.6, 4.4])\n",
        "sample_mean = np.mean(response_times)\n",
        "sample_std = np.std(response_times, ddof=1)  # ddof=1 for sample standard deviation\n",
        "n = len(response_times)\n",
        "population_mean = 5  # under the null hypothesis\n",
        "z_score = (sample_mean - population_mean) / (sample_std / np.sqrt(n))\n",
        "p_value = stats.norm.cdf(z_score)\n",
        "sample_mean, sample_std, z_score, p_value"
      ],
      "metadata": {
        "id": "Skj7VwHJpiB0",
        "colab": {
          "base_uri": "https://localhost:8080/"
        },
        "outputId": "5d7290df-b7f5-4417-e01e-e751b95817f6"
      },
      "execution_count": 2,
      "outputs": [
        {
          "output_type": "execute_result",
          "data": {
            "text/plain": [
              "(4.57, 0.4270050741306634, -3.184457226042963, 0.0007251287113068958)"
            ]
          },
          "metadata": {},
          "execution_count": 2
        }
      ]
    },
    {
      "cell_type": "code",
      "source": [
        "#15.A company is testing two different website layouts to see which one leads to higher click-through rates.Write a Python function to perform an A/B test analysis, including calculating the t-statistic, degrees of freedom, and p-value.\n",
        "# Use the following data:\n",
        "\n",
        "# ```python\n",
        "\n",
        "# layout_a_clicks = [28, 32, 33, 29, 31, 34, 30, 35, 36, 37]\n",
        "\n",
        "# layout_b_clicks = [40, 41, 38, 42, 39, 44, 43, 41, 45, 47]\n",
        "\n",
        "def ab_test_analysis(layout_a_clicks, layout_b_clicks):\n",
        "    # Convert input lists to numpy arrays\n",
        "    a_clicks = np.array(layout_a_clicks)\n",
        "    b_clicks = np.array(layout_b_clicks)\n",
        "\n",
        "    # Calculate means and standard deviations\n",
        "    mean_a = np.mean(a_clicks)\n",
        "    mean_b = np.mean(b_clicks)\n",
        "    std_a = np.std(a_clicks, ddof=1)  # ddof=1 for sample standard deviation\n",
        "    std_b = np.std(b_clicks, ddof=1)\n",
        "    n_a = len(a_clicks)\n",
        "    n_b = len(b_clicks)\n",
        "\n",
        "    # Calculate the t-statistic\n",
        "    t_stat = (mean_a - mean_b) / np.sqrt((std_a**2 / n_a) + (std_b**2 / n_b))\n",
        "\n",
        "    # Calculate the degrees of freedom\n",
        "    df = ((std_a**2 / n_a) + (std_b**2 / n_b))**2 / (((std_a**2 / n_a)**2 / (n_a - 1)) + ((std_b**2 / n_b)**2 / (n_b - 1)))\n",
        "\n",
        "    # Calculate the p-value\n",
        "    p_value = stats.t.cdf(t_stat, df)\n",
        "\n",
        "    # For a two-tailed test, we multiply the p-value by 2\n",
        "    p_value_two_tailed = 2 * (1 - stats.t.cdf(abs(t_stat), df))\n",
        "\n",
        "    return t_stat, df, p_value_two_tailed\n",
        "\n",
        "# Sample data\n",
        "layout_a_clicks = [28, 32, 33, 29, 31, 34, 30, 35, 36, 37]\n",
        "layout_b_clicks = [40, 41, 38, 42, 39, 44, 43, 41, 45, 47]\n",
        "\n",
        "# Perform the A/B test analysis\n",
        "t_stat, df, p_value_two_tailed = ab_test_analysis(layout_a_clicks, layout_b_clicks)\n",
        "\n",
        "t_stat, df, p_value_two_tailed\n"
      ],
      "metadata": {
        "id": "42wESyT0qIcs",
        "colab": {
          "base_uri": "https://localhost:8080/"
        },
        "outputId": "8a386e2e-07d5-4dfa-e8ef-64f4cc1e5910"
      },
      "execution_count": 3,
      "outputs": [
        {
          "output_type": "execute_result",
          "data": {
            "text/plain": [
              "(-7.298102156175071, 17.879871863320876, 9.19659607134804e-07)"
            ]
          },
          "metadata": {},
          "execution_count": 3
        }
      ]
    },
    {
      "cell_type": "code",
      "source": [
        "#16.A pharmaceutical company wants to determine if a new drug is more effective than an existing drug in reducing cholesterol levels.Create a program to analyze the clinical trial data and calculate the t-statistic and p-value for the treatment effect.\n",
        "# Use the following data of cholestrol level:\n",
        "\n",
        "# ```python\n",
        "\n",
        "# existing_drug_levels = [180, 182, 175, 185, 178, 176, 172, 184, 179, 183]\n",
        "\n",
        "# new_drug_levels = [170, 172, 165, 168, 175, 173, 170, 178, 172, 176]\n",
        "\n",
        "# ```\n",
        "def analyze_clinical_trial(existing_drug_levels, new_drug_levels):\n",
        "    # Convert input lists to numpy arrays\n",
        "    existing_levels = np.array(existing_drug_levels)\n",
        "    new_levels = np.array(new_drug_levels)\n",
        "\n",
        "    # Calculate means and standard deviations\n",
        "    mean_existing = np.mean(existing_levels)\n",
        "    mean_new = np.mean(new_levels)\n",
        "    std_existing = np.std(existing_levels, ddof=1)  # ddof=1 for sample standard deviation\n",
        "    std_new = np.std(new_levels, ddof=1)\n",
        "    n_existing = len(existing_levels)\n",
        "    n_new = len(new_levels)\n",
        "\n",
        "    # Calculate the t-statistic\n",
        "    t_stat = (mean_existing - mean_new) / np.sqrt((std_existing**2 / n_existing) + (std_new**2 / n_new))\n",
        "\n",
        "    # Calculate the degrees of freedom\n",
        "    df = ((std_existing**2 / n_existing) + (std_new**2 / n_new))**2 / (((std_existing**2 / n_existing)**2 / (n_existing - 1)) + ((std_new**2 / n_new)**2 / (n_new - 1)))\n",
        "\n",
        "    # Calculate the p-value for a one-tailed test\n",
        "    p_value = stats.t.cdf(t_stat, df)\n",
        "\n",
        "    return t_stat, df, p_value\n",
        "\n",
        "# Sample data\n",
        "existing_drug_levels = [180, 182, 175, 185, 178, 176, 172, 184, 179, 183]\n",
        "new_drug_levels = [170, 172, 165, 168, 175, 173, 170, 178, 172, 176]\n",
        "\n",
        "# Perform the analysis\n",
        "t_stat, df, p_value = analyze_clinical_trial(existing_drug_levels, new_drug_levels)\n",
        "\n",
        "t_stat, df, p_value"
      ],
      "metadata": {
        "id": "M77auKQTqXaH",
        "colab": {
          "base_uri": "https://localhost:8080/"
        },
        "outputId": "f9ccb590-13af-4531-fef5-866809408556"
      },
      "execution_count": 4,
      "outputs": [
        {
          "output_type": "execute_result",
          "data": {
            "text/plain": [
              "(4.140480986208661, 17.866770765582338, 0.9996885385527265)"
            ]
          },
          "metadata": {},
          "execution_count": 4
        }
      ]
    },
    {
      "cell_type": "code",
      "source": [
        "#17.A school district introduces an educational intervention program to improve math scores.Write a Python function to analyze pre- and post-intervention test scores, calculating the t-statistic and p-value to determine if the intervention had a significant impact.\n",
        "# Use the following data of test score:\n",
        "\n",
        "\n",
        "#   ```python\n",
        "\n",
        "#   pre_intervention_scores = [80, 85, 90, 75, 88, 82, 92, 78, 85, 87]\n",
        "\n",
        "#   post_intervention_scores = [90, 92, 88, 92, 95, 91, 96, 93, 89, 93]\n",
        "\n",
        "#   ```\n",
        "def analyze_intervention(pre_scores, post_scores):\n",
        "    # Convert input lists to numpy arrays\n",
        "    pre_scores = np.array(pre_scores)\n",
        "    post_scores = np.array(post_scores)\n",
        "\n",
        "    # Calculate the differences between pre- and post-intervention scores\n",
        "    differences = post_scores - pre_scores\n",
        "\n",
        "    # Calculate the mean and standard deviation of the differences\n",
        "    mean_diff = np.mean(differences)\n",
        "    std_diff = np.std(differences, ddof=1)  # ddof=1 for sample standard deviation\n",
        "    n = len(differences)\n",
        "\n",
        "    # Calculate the t-statistic\n",
        "    t_stat = mean_diff / (std_diff / np.sqrt(n))\n",
        "\n",
        "    # Calculate the degrees of freedom\n",
        "    df = n - 1\n",
        "\n",
        "    # Calculate the p-value for a two-tailed test\n",
        "    p_value = 2 * (1 - stats.t.cdf(abs(t_stat), df))\n",
        "\n",
        "    return t_stat, df, p_value\n",
        "\n",
        "# Sample data\n",
        "pre_intervention_scores = [80, 85, 90, 75, 88, 82, 92, 78, 85, 87]\n",
        "post_intervention_scores = [90, 92, 88, 92, 95, 91, 96, 93, 89, 93]\n",
        "\n",
        "# Perform the analysis\n",
        "t_stat, df, p_value = analyze_intervention(pre_intervention_scores, post_intervention_scores)\n",
        "\n",
        "t_stat, df, p_value"
      ],
      "metadata": {
        "id": "oTJYa3wfqxbl",
        "colab": {
          "base_uri": "https://localhost:8080/"
        },
        "outputId": "704cb1b9-a064-4ebc-f7ee-a4e0727a7b59"
      },
      "execution_count": 5,
      "outputs": [
        {
          "output_type": "execute_result",
          "data": {
            "text/plain": [
              "(4.428408839657611, 9, 0.0016509548165795085)"
            ]
          },
          "metadata": {},
          "execution_count": 5
        }
      ]
    },
    {
      "cell_type": "code",
      "source": [
        "#18.An HR department wants to investigate if there's a gender-based salary gap within the company. Develop a program to analyze salary data, calculate the t-statistic, and determine if there's a statistically significant difference between the average salaries of male and female employees.\n",
        "# Use the below code to generate synthetic data\n",
        "# ```python\n",
        "\n",
        "# # Generate synthetic salary data for male and female employees\n",
        "\n",
        "# np.random.seed(0)  # For reproducibility\n",
        "\n",
        "# male_salaries = np.random.normal(loc=50000, scale=10000, size=20)\n",
        "\n",
        "# female_salaries = np.random.normal(loc=55000, scale=9000, size=20)\n",
        "\n",
        "#   ```\n",
        "# Generate synthetic salary data for male and female employees\n",
        "np.random.seed(0)  # For reproducibility\n",
        "male_salaries = np.random.normal(loc=50000, scale=10000, size=20)\n",
        "female_salaries = np.random.normal(loc=55000, scale=9000, size=20)\n",
        "\n",
        "def analyze_salary_gap(male_salaries, female_salaries):\n",
        "    # Convert input lists to numpy arrays\n",
        "    male_salaries = np.array(male_salaries)\n",
        "    female_salaries = np.array(female_salaries)\n",
        "\n",
        "    # Calculate means and standard deviations\n",
        "    mean_male = np.mean(male_salaries)\n",
        "    mean_female = np.mean(female_salaries)\n",
        "    std_male = np.std(male_salaries, ddof=1)  # ddof=1 for sample standard deviation\n",
        "    std_female = np.std(female_salaries, ddof=1)\n",
        "    n_male = len(male_salaries)\n",
        "    n_female = len(female_salaries)\n",
        "\n",
        "    # Calculate the t-statistic\n",
        "    t_stat = (mean_male - mean_female) / np.sqrt((std_male**2 / n_male) + (std_female**2 / n_female))\n",
        "\n",
        "    # Calculate the degrees of freedom\n",
        "    df = ((std_male**2 / n_male) + (std_female**2 / n_female))**2 / (((std_male**2 / n_male)**2 / (n_male - 1)) + ((std_female**2 / n_female)**2 / (n_female - 1)))\n",
        "\n",
        "    # Calculate the p-value for a two-tailed test\n",
        "    p_value = 2 * (1 - stats.t.cdf(abs(t_stat), df))\n",
        "\n",
        "    return t_stat, df, p_value\n",
        "\n",
        "# Perform the analysis\n",
        "t_stat, df, p_value = analyze_salary_gap(male_salaries, female_salaries)\n",
        "\n",
        "t_stat, df, p_value"
      ],
      "metadata": {
        "id": "Z31PQUbXrahM",
        "colab": {
          "base_uri": "https://localhost:8080/"
        },
        "outputId": "78ebc29b-237a-492f-c447-5233ab55ff12"
      },
      "execution_count": 6,
      "outputs": [
        {
          "output_type": "execute_result",
          "data": {
            "text/plain": [
              "(0.061142089696313844, 36.166783312917644, 0.9515826849267925)"
            ]
          },
          "metadata": {},
          "execution_count": 6
        }
      ]
    },
    {
      "cell_type": "code",
      "source": [
        "#19.A manufacturer produces two different versions of a product and wants to compare their quality scores.Create a Python function to analyze quality assessment data, calculate the t-statistic, and decide whether there's a significant difference in quality between the two versions.\n",
        "# Use the following data\n",
        "# ```python\n",
        "\n",
        "# version1_scores = [85, 88, 82, 89, 87, 84, 90, 88, 85, 86, 91, 83, 87, 84, 89, 86, 84, 88, 85, 86, 89, 90, 87, 88, 85]\n",
        "\n",
        "# version2_scores = [80, 78, 83, 81, 79, 82, 76, 80, 78, 81, 77, 82, 80, 79, 82, 79, 80, 81, 79, 82, 79, 78, 80, 81, 82]\n",
        "# ```\n",
        "def analyze_quality_scores(version1_scores, version2_scores):\n",
        "    # Convert input lists to numpy arrays\n",
        "    version1_scores = np.array(version1_scores)\n",
        "    version2_scores = np.array(version2_scores)\n",
        "\n",
        "    # Calculate means and standard deviations\n",
        "    mean_v1 = np.mean(version1_scores)\n",
        "    mean_v2 = np.mean(version2_scores)\n",
        "    std_v1 = np.std(version1_scores, ddof=1)  # ddof=1 for sample standard deviation\n",
        "    std_v2 = np.std(version2_scores, ddof=1)\n",
        "    n_v1 = len(version1_scores)\n",
        "    n_v2 = len(version2_scores)\n",
        "\n",
        "    # Calculate the t-statistic\n",
        "    t_stat = (mean_v1 - mean_v2) / np.sqrt((std_v1**2 / n_v1) + (std_v2**2 / n_v2))\n",
        "\n",
        "    # Calculate the degrees of freedom\n",
        "    df = ((std_v1**2 / n_v1) + (std_v2**2 / n_v2))**2 / (((std_v1**2 / n_v1)**2 / (n_v1 - 1)) + ((std_v2**2 / n_v2)**2 / (n_v2 - 1)))\n",
        "\n",
        "    # Calculate the p-value for a two-tailed test\n",
        "    p_value = 2 * (1 - stats.t.cdf(abs(t_stat), df))\n",
        "\n",
        "    return t_stat, df, p_value\n",
        "\n",
        "# Sample data\n",
        "version1_scores = [85, 88, 82, 89, 87, 84, 90, 88, 85, 86, 91, 83, 87, 84, 89, 86, 84, 88, 85, 86, 89, 90, 87, 88, 85]\n",
        "version2_scores = [80, 78, 83, 81, 79, 82, 76, 80, 78, 81, 77, 82, 80, 79, 82, 79, 80, 81, 79, 82, 79, 78, 80, 81, 82]\n",
        "\n",
        "# Perform the analysis\n",
        "t_stat, df, p_value = analyze_quality_scores(version1_scores, version2_scores)\n",
        "\n",
        "t_stat, df, p_value"
      ],
      "metadata": {
        "id": "KbWCTc8QvaPk",
        "colab": {
          "base_uri": "https://localhost:8080/"
        },
        "outputId": "510d9fb3-ccb7-4258-89f5-1358b692be98"
      },
      "execution_count": 7,
      "outputs": [
        {
          "output_type": "execute_result",
          "data": {
            "text/plain": [
              "(11.325830417646698, 44.47061033283036, 1.0658141036401503e-14)"
            ]
          },
          "metadata": {},
          "execution_count": 7
        }
      ]
    },
    {
      "cell_type": "code",
      "source": [
        "#20.A restaurant chain collects customer satisfaction scores for two different branches. Write a program to analyze the scores, calculate the t-statistic, and determine if there's a statistically significant difference in customer satisfaction between the branches.\n",
        "# Use the below data of scores:\n",
        "\n",
        "#   ```python\n",
        "\n",
        "# branch_a_scores = [4, 5, 3, 4, 5, 4, 5, 3, 4, 4, 5, 4, 4, 3, 4, 5, 5, 4, 3, 4, 5, 4, 3, 5, 4, 4, 5, 3, 4, 5, 4]\n",
        "\n",
        "# branch_b_scores = [3, 4, 2, 3, 4, 3, 4, 2, 3, 3, 4, 3, 3, 2, 3, 4, 4, 3, 2, 3, 4, 3, 2, 4, 3, 3, 4, 2, 3, 4, 3]\n",
        "def analyze_satisfaction_scores(branch_a_scores, branch_b_scores):\n",
        "    # Convert input lists to numpy arrays\n",
        "    branch_a_scores = np.array(branch_a_scores)\n",
        "    branch_b_scores = np.array(branch_b_scores)\n",
        "\n",
        "    # Calculate means and standard deviations\n",
        "    mean_a = np.mean(branch_a_scores)\n",
        "    mean_b = np.mean(branch_b_scores)\n",
        "    std_a = np.std(branch_a_scores, ddof=1)  # ddof=1 for sample standard deviation\n",
        "    std_b = np.std(branch_b_scores, ddof=1)\n",
        "    n_a = len(branch_a_scores)\n",
        "    n_b = len(branch_b_scores)\n",
        "\n",
        "    # Calculate the t-statistic\n",
        "    t_stat = (mean_a - mean_b) / np.sqrt((std_a**2 / n_a) + (std_b**2 / n_b))\n",
        "\n",
        "    # Calculate the degrees of freedom\n",
        "    df = ((std_a**2 / n_a) + (std_b**2 / n_b))**2 / (((std_a**2 / n_a)**2 / (n_a - 1)) + ((std_b**2 / n_b)**2 / (n_b - 1)))\n",
        "\n",
        "    # Calculate the p-value for a two-tailed test\n",
        "    p_value = 2 * (1 - stats.t.cdf(abs(t_stat), df))\n",
        "\n",
        "    return t_stat, df, p_value\n",
        "\n",
        "# Sample data\n",
        "branch_a_scores = [4, 5, 3, 4, 5, 4, 5, 3, 4, 4, 5, 4, 4, 3, 4, 5, 5, 4, 3, 4, 5, 4, 3, 5, 4, 4, 5, 3, 4, 5, 4]\n",
        "branch_b_scores = [3, 4, 2, 3, 4, 3, 4, 2, 3, 3, 4, 3, 3, 2, 3, 4, 4, 3, 2, 3, 4, 3, 2, 4, 3, 3, 4, 2, 3, 4, 3]\n",
        "\n",
        "# Perform the analysis\n",
        "t_stat, df, p_value = analyze_satisfaction_scores(branch_a_scores, branch_b_scores)\n",
        "\n",
        "t_stat, df, p_value"
      ],
      "metadata": {
        "id": "RdKtxaMBv_ig",
        "colab": {
          "base_uri": "https://localhost:8080/"
        },
        "outputId": "7665cf8c-231b-4163-e912-af91b4eb18ce"
      },
      "execution_count": 8,
      "outputs": [
        {
          "output_type": "execute_result",
          "data": {
            "text/plain": [
              "(5.480077554195743, 60.0, 8.895290508625919e-07)"
            ]
          },
          "metadata": {},
          "execution_count": 8
        }
      ]
    },
    {
      "cell_type": "code",
      "source": [
        "#21.A political analyst wants to determine if there is a significant association between age groups and voter preferences (Candidate A or Candidate B). They collect data from a sample of 500 voters and classify them into different age groups and candidate pre@erences. Perform a Chi-Square test to determine if there is a significant association between age groups and voter preferences.\n",
        "# Use the below code to generate data:\n",
        "\n",
        "# ```python\n",
        "\n",
        "# np.random.seed(0)\n",
        "\n",
        "# age_groups = np.random.choice([ 18 30 , 31 50 , 51+', 51+'], size=30)\n",
        "\n",
        "# voter_preferences = np.random.choice(['Candidate A', 'Candidate B'], size=30)\n",
        "import pandas as pd\n",
        "from scipy.stats import chi2_contingency\n",
        "\n",
        "# Generate data\n",
        "np.random.seed(0)\n",
        "age_groups = np.random.choice(['18-30', '31-50', '51+'], size=500)\n",
        "voter_preferences = np.random.choice(['Candidate A', 'Candidate B'], size=500)\n",
        "\n",
        "# Create a DataFrame\n",
        "data = pd.DataFrame({'Age Group': age_groups, 'Voter Preference': voter_preferences})\n",
        "\n",
        "# Create a contingency table\n",
        "contingency_table = pd.crosstab(data['Age Group'], data['Voter Preference'])\n",
        "\n",
        "# Perform the Chi-Square test\n",
        "chi2, p, dof, expected = chi2_contingency(contingency_table)\n",
        "\n",
        "chi2, p, dof, expected\n"
      ],
      "metadata": {
        "id": "e4cjGrL4wSZY",
        "colab": {
          "base_uri": "https://localhost:8080/"
        },
        "outputId": "39af6f7c-6bcd-4419-9879-8fdc47934cdb"
      },
      "execution_count": 10,
      "outputs": [
        {
          "output_type": "execute_result",
          "data": {
            "text/plain": [
              "(0.8779923945254768,\n",
              " 0.6446832311860852,\n",
              " 2,\n",
              " array([[96.824, 85.176],\n",
              "        [89.908, 79.092],\n",
              "        [79.268, 69.732]]))"
            ]
          },
          "metadata": {},
          "execution_count": 10
        }
      ]
    },
    {
      "cell_type": "code",
      "source": [
        "#22. A company conducted a customer satisfaction survey to determine if there is a significant relationship between product satisfaction levels (Satisfied, Neutral, Dissatisfied) and the region where customers are located (East, West, North, South). The survey data is summarized in a contingency table. Conduct a ChiSquare test to determine if there is a significant relationship between product satisfaction levels and customer regions.\n",
        "# Sample data:\n",
        "\n",
        "# ```python\n",
        "\n",
        "# #Sample data: Product satisfaction levels (rows) vs. Customer regions (columns)\n",
        "\n",
        "# data = np.array([[50, 30, 40, 20], [30, 40, 30, 50], [20, 30, 40, 30]])\n",
        "data = np.array([[50, 30, 40, 20],    # Satisfied\n",
        "                 [30, 40, 30, 50],    # Neutral\n",
        "                 [20, 30, 40, 30]])   # Dissatisfied\n",
        "\n",
        "# Perform Chi-square test\n",
        "chi2_stat, p_val, dof, expected = chi2_contingency(data)\n",
        "\n",
        "# Print results\n",
        "print(f\"Chi-square statistic: {chi2_stat}\")\n",
        "print(f\"P-value: {p_val}\")\n",
        "print(f\"Degrees of freedom: {dof}\")\n",
        "print(\"Expected frequencies:\")\n",
        "print(expected)\n",
        "\n",
        "# Interpret p-value\n",
        "alpha = 0.05\n",
        "if p_val < alpha:\n",
        "    print(\"Reject the null hypothesis. There is a significant relationship between product satisfaction levels and customer regions.\")\n",
        "else:\n",
        "    print(\"Fail to reject the null hypothesis. There is no significant relationship between product satisfaction levels and customer regions.\")"
      ],
      "metadata": {
        "id": "R-OYoINdxFdg",
        "colab": {
          "base_uri": "https://localhost:8080/"
        },
        "outputId": "8a98603c-acd7-4cde-de5b-f51daec8defa"
      },
      "execution_count": 11,
      "outputs": [
        {
          "output_type": "stream",
          "name": "stdout",
          "text": [
            "Chi-square statistic: 27.777056277056275\n",
            "P-value: 0.00010349448486004387\n",
            "Degrees of freedom: 6\n",
            "Expected frequencies:\n",
            "[[34.14634146 34.14634146 37.56097561 34.14634146]\n",
            " [36.58536585 36.58536585 40.24390244 36.58536585]\n",
            " [29.26829268 29.26829268 32.19512195 29.26829268]]\n",
            "Reject the null hypothesis. There is a significant relationship between product satisfaction levels and customer regions.\n"
          ]
        }
      ]
    },
    {
      "cell_type": "code",
      "source": [
        "#23.A company implemented an employee training program to improve job performance (Effective, Neutral,Ineffective). After the training, they collected data from a sample of employees and classified them based on their job performance before and after the training. Perform a Chi-Square test to determine if there is a significant difference between job performance levels before and after the training.\n",
        "# Sample data:\n",
        "\n",
        "# ```python\n",
        "\n",
        "# # Sample data: Job performance levels before (rows) and after (columns) training\n",
        "\n",
        "# data = np.array([[50, 30, 20], [30, 40, 30], [20, 30, 40]])\n",
        "# Sample data: Job performance levels before (rows) and after (columns) training\n",
        "data = np.array([[50, 30, 20],    # Effective\n",
        "                 [30, 40, 30],    # Neutral\n",
        "                 [20, 30, 40]])   # Ineffective\n",
        "\n",
        "# Perform Chi-square test\n",
        "chi2_stat, p_val, dof, expected = chi2_contingency(data)\n",
        "\n",
        "# Print results\n",
        "print(f\"Chi-square statistic: {chi2_stat}\")\n",
        "print(f\"P-value: {p_val}\")\n",
        "print(f\"Degrees of freedom: {dof}\")\n",
        "print(\"Expected frequencies:\")\n",
        "print(expected)\n",
        "\n",
        "# Interpret p-value\n",
        "alpha = 0.05\n",
        "if p_val < alpha:\n",
        "    print(\"Reject the null hypothesis. There is a significant difference between job performance levels before and after training.\")\n",
        "else:\n",
        "    print(\"Fail to reject the null hypothesis. There is no significant difference between job performance levels before and after training.\")"
      ],
      "metadata": {
        "id": "YbNtCDKOyGLa",
        "colab": {
          "base_uri": "https://localhost:8080/"
        },
        "outputId": "b76b8104-d73e-43c1-c7d8-3093101a9a34"
      },
      "execution_count": 12,
      "outputs": [
        {
          "output_type": "stream",
          "name": "stdout",
          "text": [
            "Chi-square statistic: 22.161728395061726\n",
            "P-value: 0.00018609719479882557\n",
            "Degrees of freedom: 4\n",
            "Expected frequencies:\n",
            "[[34.48275862 34.48275862 31.03448276]\n",
            " [34.48275862 34.48275862 31.03448276]\n",
            " [31.03448276 31.03448276 27.93103448]]\n",
            "Reject the null hypothesis. There is a significant difference between job performance levels before and after training.\n"
          ]
        }
      ]
    },
    {
      "cell_type": "code",
      "source": [
        "#24.A company produces three different versions of a product: Standard, Premium, and Deluxe. The company wants to determine if there is a significant difference in customer satisfaction scores among the three product versions. They conducted a survey and collected customer satisfaction scores for each version from a random sample of customers. Perform an ANOVA test to determine if there is a significant difference in customer satisfaction scores.\n",
        "#  Use the following data:\n",
        "\n",
        "#   ```python\n",
        "\n",
        "#   # Sample data: Customer satisfaction scores for each product version\n",
        "\n",
        "#   standard_scores = [80, 85, 90, 78, 88, 82, 92, 78, 85, 87]\n",
        "\n",
        "#   premium_scores = [90, 92, 88, 92, 95, 91, 96, 93, 89, 93]\n",
        "\n",
        "#   deluxe_scores = [95, 98, 92, 97, 96, 94, 98, 97, 92, 99]\n",
        "from scipy.stats import f_oneway\n",
        "\n",
        "# Sample data: Customer satisfaction scores for each product version\n",
        "standard_scores = [80, 85, 90, 78, 88, 82, 92, 78, 85, 87]\n",
        "premium_scores = [90, 92, 88, 92, 95, 91, 96, 93, 89, 93]\n",
        "deluxe_scores = [95, 98, 92, 97, 96, 94, 98, 97, 92, 99]\n",
        "\n",
        "# Perform one-way ANOVA\n",
        "f_statistic, p_value = f_oneway(standard_scores, premium_scores, deluxe_scores)\n",
        "\n",
        "# Print results\n",
        "print(f\"One-way ANOVA\")\n",
        "print(f\"F-statistic: {f_statistic}\")\n",
        "print(f\"P-value: {p_value}\")\n",
        "\n",
        "# Interpret p-value\n",
        "alpha = 0.05\n",
        "if p_value < alpha:\n",
        "    print(\"Reject the null hypothesis. There is a significant difference in customer satisfaction scores among the product versions.\")\n",
        "else:\n",
        "    print(\"Fail to reject the null hypothesis. There is no significant difference in customer satisfaction scores among the product versions.\")"
      ],
      "metadata": {
        "id": "5QA89EWjy15U",
        "colab": {
          "base_uri": "https://localhost:8080/"
        },
        "outputId": "474c2247-ce1e-48a2-970b-8406772b591e"
      },
      "execution_count": 13,
      "outputs": [
        {
          "output_type": "stream",
          "name": "stdout",
          "text": [
            "One-way ANOVA\n",
            "F-statistic: 27.03556231003039\n",
            "P-value: 3.5786328857349003e-07\n",
            "Reject the null hypothesis. There is a significant difference in customer satisfaction scores among the product versions.\n"
          ]
        }
      ]
    },
    {
      "cell_type": "code",
      "source": [],
      "metadata": {
        "id": "PNR1gZ-dOJ1q"
      },
      "execution_count": null,
      "outputs": []
    }
  ]
}